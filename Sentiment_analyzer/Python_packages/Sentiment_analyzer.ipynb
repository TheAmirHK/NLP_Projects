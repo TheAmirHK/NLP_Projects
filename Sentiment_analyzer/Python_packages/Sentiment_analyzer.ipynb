{
  "nbformat": 4,
  "nbformat_minor": 0,
  "metadata": {
    "colab": {
      "provenance": [],
      "authorship_tag": "ABX9TyNNRtyoLNedjdFqpFISI7rr",
      "include_colab_link": true
    },
    "kernelspec": {
      "name": "python3",
      "display_name": "Python 3"
    },
    "language_info": {
      "name": "python"
    }
  },
  "cells": [
    {
      "cell_type": "markdown",
      "metadata": {
        "id": "view-in-github",
        "colab_type": "text"
      },
      "source": [
        "<a href=\"https://colab.research.google.com/github/TheAmirHK/NLP_Projects/blob/main/Sentiment_analyzer/Python_packages/Sentiment_analyzer.ipynb\" target=\"_parent\"><img src=\"https://colab.research.google.com/assets/colab-badge.svg\" alt=\"Open In Colab\"/></a>"
      ]
    },
    {
      "cell_type": "code",
      "source": [
        "import nltk\n",
        "nltk.download()"
      ],
      "metadata": {
        "id": "i5FdxOJsak9A"
      },
      "execution_count": null,
      "outputs": []
    },
    {
      "cell_type": "code",
      "source": [
        "from textblob import TextBlob\n",
        "\n",
        "# Sample text with different sentiments\n",
        "message = input(\"\")\n",
        "\n",
        "# Analyze sentiment using TextBlob\n",
        "message_sentiment = TextBlob(message).sentiment\n",
        "\n",
        "print(\"Positive text:\", message)\n",
        "print(\"Sentiment:\", message_sentiment.polarity, message_sentiment.subjectivity)\n"
      ],
      "metadata": {
        "colab": {
          "base_uri": "https://localhost:8080/"
        },
        "id": "RGhTlGMyawFm",
        "outputId": "82d0f3bc-63a3-43f4-acb5-8d7e3c0fb407"
      },
      "execution_count": null,
      "outputs": [
        {
          "output_type": "stream",
          "name": "stdout",
          "text": [
            "Today, I received the product and it is not functional, but I still like it!\n",
            "Positive text: Today, I received the product and it is not functional, but I still like it!\n",
            "Sentiment: 0.0 0.0\n"
          ]
        }
      ]
    },
    {
      "cell_type": "code",
      "execution_count": null,
      "metadata": {
        "colab": {
          "base_uri": "https://localhost:8080/"
        },
        "id": "25f7h4ZuaUkn",
        "outputId": "58d68364-794b-4783-c587-4a86ab34351f"
      },
      "outputs": [
        {
          "output_type": "stream",
          "name": "stdout",
          "text": [
            "Today, I received the product and it is not functional, but I still like it!\n",
            "{'neg': 0.0, 'neu': 0.772, 'pos': 0.228, 'compound': 0.5487}\n"
          ]
        }
      ],
      "source": [
        "from nltk.sentiment.vader import SentimentIntensityAnalyzer\n",
        "\n",
        "analyzer = SentimentIntensityAnalyzer()\n",
        "\n",
        "message = input(\"\")\n",
        "score = analyzer.polarity_scores(message)\n",
        "print(score)"
      ]
    }
  ]
}