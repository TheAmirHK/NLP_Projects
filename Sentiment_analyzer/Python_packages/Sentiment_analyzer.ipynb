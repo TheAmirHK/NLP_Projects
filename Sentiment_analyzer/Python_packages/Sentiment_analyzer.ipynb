{
  "nbformat": 4,
  "nbformat_minor": 0,
  "metadata": {
    "colab": {
      "provenance": [],
      "authorship_tag": "ABX9TyMXA2p/1PDEtRO2nowy8Pfo",
      "include_colab_link": true
    },
    "kernelspec": {
      "name": "python3",
      "display_name": "Python 3"
    },
    "language_info": {
      "name": "python"
    }
  },
  "cells": [
    {
      "cell_type": "markdown",
      "metadata": {
        "id": "view-in-github",
        "colab_type": "text"
      },
      "source": [
        "<a href=\"https://colab.research.google.com/github/TheAmirHK/NLP_Projects/blob/main/Sentiment_analyzer/Python_packages/Sentiment_analyzer.ipynb\" target=\"_parent\"><img src=\"https://colab.research.google.com/assets/colab-badge.svg\" alt=\"Open In Colab\"/></a>"
      ]
    },
    {
      "cell_type": "code",
      "source": [
        "import nltk\n",
        "nltk.download()"
      ],
      "metadata": {
        "id": "i5FdxOJsak9A"
      },
      "execution_count": null,
      "outputs": []
    },
    {
      "cell_type": "code",
      "source": [
        "from textblob import TextBlob\n",
        "\n",
        "# Sample text with different sentiments\n",
        "text_positive = input(\"\")\n",
        "\n",
        "# Analyze sentiment using TextBlob\n",
        "positive_sentiment = TextBlob(text_positive).sentiment\n",
        "\n",
        "print(\"Positive text:\", text_positive)\n",
        "print(\"Sentiment:\", positive_sentiment.polarity, positive_sentiment.subjectivity)\n"
      ],
      "metadata": {
        "colab": {
          "base_uri": "https://localhost:8080/"
        },
        "id": "RGhTlGMyawFm",
        "outputId": "82d0f3bc-63a3-43f4-acb5-8d7e3c0fb407"
      },
      "execution_count": null,
      "outputs": [
        {
          "output_type": "stream",
          "name": "stdout",
          "text": [
            "Today, I received the product and it is not functional, but I still like it!\n",
            "Positive text: Today, I received the product and it is not functional, but I still like it!\n",
            "Sentiment: 0.0 0.0\n"
          ]
        }
      ]
    },
    {
      "cell_type": "code",
      "execution_count": null,
      "metadata": {
        "colab": {
          "base_uri": "https://localhost:8080/"
        },
        "id": "25f7h4ZuaUkn",
        "outputId": "58d68364-794b-4783-c587-4a86ab34351f"
      },
      "outputs": [
        {
          "output_type": "stream",
          "name": "stdout",
          "text": [
            "Today, I received the product and it is not functional, but I still like it!\n",
            "{'neg': 0.0, 'neu': 0.772, 'pos': 0.228, 'compound': 0.5487}\n"
          ]
        }
      ],
      "source": [
        "from nltk.sentiment.vader import SentimentIntensityAnalyzer\n",
        "\n",
        "analyzer = SentimentIntensityAnalyzer()\n",
        "\n",
        "text = input(\"\")\n",
        "score = analyzer.polarity_scores(text)\n",
        "print(score)"
      ]
    },
    {
      "cell_type": "code",
      "source": [
        "unwanted = nltk.corpus.stopwords.words(\"english\")\n",
        "unwanted.extend([w.lower() for w in nltk.corpus.names.words()])\n",
        "\n",
        "def skip_unwanted(pos_tuple):\n",
        "    word, tag = pos_tuple\n",
        "    if not word.isalpha() or word in unwanted:\n",
        "        return False\n",
        "    if tag.startswith(\"NN\"):\n",
        "        return False\n",
        "    return True\n",
        "positive_words = [word for word, tag in filter(\n",
        "    skip_unwanted,\n",
        "    nltk.pos_tag(nltk.corpus.movie_reviews.words(categories=[\"pos\"]))\n",
        ")]\n",
        "positive_fd = nltk.FreqDist(positive_words)"
      ],
      "metadata": {
        "id": "FsDQl1kpimca"
      },
      "execution_count": null,
      "outputs": []
    },
    {
      "cell_type": "code",
      "source": [
        "positive_fd"
      ],
      "metadata": {
        "colab": {
          "base_uri": "https://localhost:8080/"
        },
        "id": "gB-G0uAloJZh",
        "outputId": "0aa75698-d520-4e28-b10f-109cdc98f06e"
      },
      "execution_count": null,
      "outputs": [
        {
          "output_type": "execute_result",
          "data": {
            "text/plain": [
              "FreqDist({'one': 2821, 'like': 1799, 'good': 1231, 'also': 1200, 'even': 1179, 'well': 1094, 'much': 1038, 'would': 1019, 'first': 1004, 'two': 999, ...})"
            ]
          },
          "metadata": {},
          "execution_count": 23
        }
      ]
    }
  ]
}