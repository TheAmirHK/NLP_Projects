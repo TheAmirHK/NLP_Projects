{
  "nbformat": 4,
  "nbformat_minor": 0,
  "metadata": {
    "colab": {
      "provenance": [],
      "authorship_tag": "ABX9TyOd8RGmgf1h0yk26sW1Pm8l",
      "include_colab_link": true
    },
    "kernelspec": {
      "name": "python3",
      "display_name": "Python 3"
    },
    "language_info": {
      "name": "python"
    }
  },
  "cells": [
    {
      "cell_type": "markdown",
      "metadata": {
        "id": "view-in-github",
        "colab_type": "text"
      },
      "source": [
        "<a href=\"https://colab.research.google.com/github/TheAmirHK/NLP_Projects/blob/Book_analyzer/Genere_analyzer_(NLP)_based_on_Goodreads_reviews.ipynb\" target=\"_parent\"><img src=\"https://colab.research.google.com/assets/colab-badge.svg\" alt=\"Open In Colab\"/></a>"
      ]
    },
    {
      "cell_type": "code",
      "source": [
        "!pip install selenium\n",
        "!pip install google-colab-selenium"
      ],
      "metadata": {
        "colab": {
          "base_uri": "https://localhost:8080/"
        },
        "id": "cPH4PBmZymRQ",
        "outputId": "f138f83e-52db-41b1-a711-8fe51343fa16"
      },
      "execution_count": 1,
      "outputs": [
        {
          "output_type": "stream",
          "name": "stdout",
          "text": [
            "Requirement already satisfied: selenium in /usr/local/lib/python3.11/dist-packages (4.28.0)\n",
            "Requirement already satisfied: urllib3<3,>=1.26 in /usr/local/lib/python3.11/dist-packages (from urllib3[socks]<3,>=1.26->selenium) (2.3.0)\n",
            "Requirement already satisfied: trio~=0.17 in /usr/local/lib/python3.11/dist-packages (from selenium) (0.28.0)\n",
            "Requirement already satisfied: trio-websocket~=0.9 in /usr/local/lib/python3.11/dist-packages (from selenium) (0.11.1)\n",
            "Requirement already satisfied: certifi>=2021.10.8 in /usr/local/lib/python3.11/dist-packages (from selenium) (2024.12.14)\n",
            "Requirement already satisfied: typing_extensions~=4.9 in /usr/local/lib/python3.11/dist-packages (from selenium) (4.12.2)\n",
            "Requirement already satisfied: websocket-client~=1.8 in /usr/local/lib/python3.11/dist-packages (from selenium) (1.8.0)\n",
            "Requirement already satisfied: attrs>=23.2.0 in /usr/local/lib/python3.11/dist-packages (from trio~=0.17->selenium) (24.3.0)\n",
            "Requirement already satisfied: sortedcontainers in /usr/local/lib/python3.11/dist-packages (from trio~=0.17->selenium) (2.4.0)\n",
            "Requirement already satisfied: idna in /usr/local/lib/python3.11/dist-packages (from trio~=0.17->selenium) (3.10)\n",
            "Requirement already satisfied: outcome in /usr/local/lib/python3.11/dist-packages (from trio~=0.17->selenium) (1.3.0.post0)\n",
            "Requirement already satisfied: sniffio>=1.3.0 in /usr/local/lib/python3.11/dist-packages (from trio~=0.17->selenium) (1.3.1)\n",
            "Requirement already satisfied: wsproto>=0.14 in /usr/local/lib/python3.11/dist-packages (from trio-websocket~=0.9->selenium) (1.2.0)\n",
            "Requirement already satisfied: pysocks!=1.5.7,<2.0,>=1.5.6 in /usr/local/lib/python3.11/dist-packages (from urllib3[socks]<3,>=1.26->selenium) (1.7.1)\n",
            "Requirement already satisfied: h11<1,>=0.9.0 in /usr/local/lib/python3.11/dist-packages (from wsproto>=0.14->trio-websocket~=0.9->selenium) (0.14.0)\n",
            "Requirement already satisfied: google-colab-selenium in /usr/local/lib/python3.11/dist-packages (1.0.14)\n",
            "Requirement already satisfied: selenium in /usr/local/lib/python3.11/dist-packages (from google-colab-selenium) (4.28.0)\n",
            "Requirement already satisfied: urllib3<3,>=1.26 in /usr/local/lib/python3.11/dist-packages (from urllib3[socks]<3,>=1.26->selenium->google-colab-selenium) (2.3.0)\n",
            "Requirement already satisfied: trio~=0.17 in /usr/local/lib/python3.11/dist-packages (from selenium->google-colab-selenium) (0.28.0)\n",
            "Requirement already satisfied: trio-websocket~=0.9 in /usr/local/lib/python3.11/dist-packages (from selenium->google-colab-selenium) (0.11.1)\n",
            "Requirement already satisfied: certifi>=2021.10.8 in /usr/local/lib/python3.11/dist-packages (from selenium->google-colab-selenium) (2024.12.14)\n",
            "Requirement already satisfied: typing_extensions~=4.9 in /usr/local/lib/python3.11/dist-packages (from selenium->google-colab-selenium) (4.12.2)\n",
            "Requirement already satisfied: websocket-client~=1.8 in /usr/local/lib/python3.11/dist-packages (from selenium->google-colab-selenium) (1.8.0)\n",
            "Requirement already satisfied: attrs>=23.2.0 in /usr/local/lib/python3.11/dist-packages (from trio~=0.17->selenium->google-colab-selenium) (24.3.0)\n",
            "Requirement already satisfied: sortedcontainers in /usr/local/lib/python3.11/dist-packages (from trio~=0.17->selenium->google-colab-selenium) (2.4.0)\n",
            "Requirement already satisfied: idna in /usr/local/lib/python3.11/dist-packages (from trio~=0.17->selenium->google-colab-selenium) (3.10)\n",
            "Requirement already satisfied: outcome in /usr/local/lib/python3.11/dist-packages (from trio~=0.17->selenium->google-colab-selenium) (1.3.0.post0)\n",
            "Requirement already satisfied: sniffio>=1.3.0 in /usr/local/lib/python3.11/dist-packages (from trio~=0.17->selenium->google-colab-selenium) (1.3.1)\n",
            "Requirement already satisfied: wsproto>=0.14 in /usr/local/lib/python3.11/dist-packages (from trio-websocket~=0.9->selenium->google-colab-selenium) (1.2.0)\n",
            "Requirement already satisfied: pysocks!=1.5.7,<2.0,>=1.5.6 in /usr/local/lib/python3.11/dist-packages (from urllib3[socks]<3,>=1.26->selenium->google-colab-selenium) (1.7.1)\n",
            "Requirement already satisfied: h11<1,>=0.9.0 in /usr/local/lib/python3.11/dist-packages (from wsproto>=0.14->trio-websocket~=0.9->selenium->google-colab-selenium) (0.14.0)\n"
          ]
        }
      ]
    },
    {
      "cell_type": "code",
      "source": [
        "import google_colab_selenium as gs\n",
        "from selenium.webdriver.common.by import By\n",
        "from selenium.webdriver.chrome.service import Service\n",
        "from selenium.webdriver.common.keys import Keys\n",
        "from selenium import webdriver\n",
        "import time\n",
        "\n",
        "from selenium import webdriver"
      ],
      "metadata": {
        "id": "3lSZoosB0rjA"
      },
      "execution_count": 21,
      "outputs": []
    },
    {
      "cell_type": "code",
      "source": [
        "def scrape_goodreads_reviews_selenium(book_url, num_reviews=10):\n",
        "    reviews = []\n",
        "    try:\n",
        "        # Setup Selenium WebDriver (ensure you have the correct path to the ChromeDriver)\n",
        "        driver = gs.Chrome()\n",
        "\n",
        "        driver.get(book_url)\n",
        "        reviews.append(driver.title)\n",
        "\n",
        "        # Wait for the reviews to load (adjust if necessary)\n",
        "        time.sleep(2)\n",
        "\n",
        "        scroll_pause_time = 1 # You can set your own pause time. My laptop is a bit slow so I use 1 sec\n",
        "        screen_height = driver.execute_script(\"return window.screen.height;\")   # get the screen height of the web\n",
        "        i = 1\n",
        "\n",
        "        while True:\n",
        "            # scroll one screen height each time\n",
        "            driver.execute_script(\"window.scrollTo(0, {screen_height}*{i});\".format(screen_height=screen_height, i=i))\n",
        "            i += 1\n",
        "            time.sleep(scroll_pause_time)\n",
        "            # update scroll height each time after scrolled, as the scroll height can change after we scrolled the page\n",
        "            scroll_height = driver.execute_script(\"return document.body.scrollHeight;\")\n",
        "            # Break the loop when the height we need to scroll to is larger than the total scroll height\n",
        "            if (screen_height) * i > scroll_height:\n",
        "                break\n",
        "\n",
        "        # Extract review text\n",
        "        review_elements = driver.find_elements(By.CLASS_NAME, 'ReviewText')\n",
        "        for review in review_elements[:num_reviews]:\n",
        "            reviews.append(review.text)\n",
        "\n",
        "        driver.quit()\n",
        "    except Exception as e:\n",
        "        print(f\"Error while scraping: {e}\")\n",
        "    return reviews"
      ],
      "metadata": {
        "id": "DV43i-0FykOY"
      },
      "execution_count": 22,
      "outputs": []
    },
    {
      "cell_type": "code",
      "source": [
        "# Genre keywords dictionary\n",
        "genre_keywords = {\n",
        "    'Fiction': ['novel', 'fiction', 'story', 'characters', 'plot'],\n",
        "    'Fantasy': ['magic', 'fantasy', 'dragons', 'adventure', 'mystical', 'sword'],\n",
        "    'Science Fiction': ['future', 'space', 'technology', 'robots', 'aliens', 'spaceship'],\n",
        "    'Mystery': ['mystery', 'detective', 'crime', 'investigation', 'whodunit', 'suspense'],\n",
        "    'Romance': ['love', 'romance', 'relationship', 'heart', 'couple', 'passion'],\n",
        "    'Non-Fiction': ['history', 'biography', 'real', 'nonfiction', 'fact', 'true story'],\n",
        "    'Horror': ['horror', 'scary', 'ghost', 'murder', 'fear', 'spooky', 'creepy'],\n",
        "    'Thriller': ['thriller', 'suspense', 'action', 'adventure', 'exciting', 'intense'],\n",
        "    'Young Adult': ['teen', 'young adult', 'youth', 'coming-of-age', 'teenager', 'school'],\n",
        "}\n",
        "\n",
        "def predict_genres(review, genre_keywords):\n",
        "    review_lower = review.lower()\n",
        "    genre_scores = defaultdict(int)\n",
        "\n",
        "    # Count matches for each genre\n",
        "    for genre, keywords in genre_keywords.items():\n",
        "        for keyword in keywords:\n",
        "            if keyword in review_lower:\n",
        "                genre_scores[genre] += 1\n",
        "\n",
        "    return genre_scores"
      ],
      "metadata": {
        "id": "diKAx_WXnjNs"
      },
      "execution_count": 23,
      "outputs": []
    },
    {
      "cell_type": "code",
      "source": [
        "from collections import defaultdict, Counter\n",
        "\n",
        "# Aggregate genres from multiple reviews\n",
        "def get_book_genres_from_reviews(book_url, num_reviews=10, top_n=3):\n",
        "    reviews = scrape_goodreads_reviews_selenium(book_url, num_reviews)\n",
        "\n",
        "    if not reviews:\n",
        "        print(\"No reviews found!\")\n",
        "        return None\n",
        "\n",
        "    aggregated_scores = defaultdict(int)\n",
        "\n",
        "    # Aggregate scores for all genres from all reviews\n",
        "    for review in reviews:\n",
        "        review_scores = predict_genres(review, genre_keywords)\n",
        "        for genre, score in review_scores.items():\n",
        "            aggregated_scores[genre] += score\n",
        "\n",
        "    # Normalize and rank genres\n",
        "    total_score = sum(aggregated_scores.values())\n",
        "    if total_score == 0:\n",
        "        print(\"No relevant genre keywords found in reviews.\")\n",
        "        return []\n",
        "\n",
        "    # Sort genres by score and normalize percentages\n",
        "    sorted_genres = sorted(aggregated_scores.items(), key=lambda x: x[1], reverse=True)\n",
        "    genres_with_percentage = [(genre, score, score / total_score * 100) for genre, score in sorted_genres]\n",
        "\n",
        "    # Return top N genres\n",
        "    return genres_with_percentage[:top_n]"
      ],
      "metadata": {
        "id": "nhaeFyZanqcE"
      },
      "execution_count": 24,
      "outputs": []
    },
    {
      "cell_type": "code",
      "source": [
        "book_url = \"https://www.goodreads.com/book/show/60194162/reviews?reviewFilters=eyJhZnRlciI6Ik1UTTRNVFVzTVRZMk56WTRNak15TURreE5nIn0%3D\"  # Replace with a valid Goodreads book URL\n",
        "top_genres = get_book_genres_from_reviews(book_url, num_reviews=10, top_n=3)\n",
        "\n",
        "if top_genres:\n",
        "    print(\"Predicted Genres:\")\n",
        "    for genre, score, percentage in top_genres:\n",
        "        print(f\"{genre}: {score} matches ({percentage:.2f}%)\")"
      ],
      "metadata": {
        "colab": {
          "base_uri": "https://localhost:8080/",
          "height": 107
        },
        "id": "YNlxh2lSn-29",
        "outputId": "8b4f8ed8-7ebd-410e-eddf-ef37b8169c50"
      },
      "execution_count": 25,
      "outputs": [
        {
          "output_type": "display_data",
          "data": {
            "text/plain": [
              "<IPython.core.display.HTML object>"
            ],
            "text/html": [
              "\n",
              "            <div class=\"spinner-container\">\n",
              "                <div class=\"spinner\" id=\"4fa53bee-ae6c-4d5f-9d85-80da0f60ad74-circle\"></div>\n",
              "                <div class=\"spinner-text\" id=\"4fa53bee-ae6c-4d5f-9d85-80da0f60ad74-text\">Initializing Chromedriver</div>\n",
              "            </div>\n",
              "            <style>\n",
              "                @keyframes spin {\n",
              "                    from { transform: rotate(0deg); }\n",
              "                    to { transform: rotate(360deg); }\n",
              "                }\n",
              "\n",
              "                .spinner-container {\n",
              "                    display: flex;\n",
              "                    align-items: center;\n",
              "                    margin-bottom: 3px;\n",
              "                }\n",
              "\n",
              "                .spinner {\n",
              "                    border: 3px solid rgba(0, 0, 0, 0.1);\n",
              "                    border-left-color: lightblue;\n",
              "                    border-radius: 50%;\n",
              "                    width: 12px;\n",
              "                    height: 12px;\n",
              "                    animation: spin 1s linear infinite;\n",
              "                }\n",
              "\n",
              "                .spinner-text {\n",
              "                    padding-left: 6px;\n",
              "                }\n",
              "            </style>\n",
              "        "
            ]
          },
          "metadata": {}
        },
        {
          "output_type": "display_data",
          "data": {
            "text/plain": [
              "<IPython.core.display.Javascript object>"
            ],
            "application/javascript": [
              "\n",
              "            const element = document.getElementById(\"4fa53bee-ae6c-4d5f-9d85-80da0f60ad74-circle\");\n",
              "            element.style.border = \"3px solid limegreen\";\n",
              "            element.style.animation = \"none\";\n",
              "\n",
              "            const text = document.getElementById(\"4fa53bee-ae6c-4d5f-9d85-80da0f60ad74-text\");\n",
              "            text.innerText = \"Initialized Chromedriver\";\n",
              "        "
            ]
          },
          "metadata": {}
        },
        {
          "output_type": "stream",
          "name": "stdout",
          "text": [
            "Predicted Genres:\n",
            "Fiction: 21 matches (39.62%)\n",
            "Romance: 11 matches (20.75%)\n",
            "Young Adult: 7 matches (13.21%)\n"
          ]
        }
      ]
    }
  ]
}